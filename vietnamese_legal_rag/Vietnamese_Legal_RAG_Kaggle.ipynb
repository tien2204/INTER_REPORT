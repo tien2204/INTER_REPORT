{
 "cells": [
  {
   "cell_type": "markdown",
   "metadata": {},
   "source": [
    "# 🏛️ Vietnamese Legal RAG System with TTS\n",
    "\n",
    "Hệ thống Truy vấn Pháp luật Việt Nam sử dụng VinaLlama-2.7B + RAG + TTS\n",
    "\n",
    "## 📋 Tính năng chính:\n",
    "- 🤖 **VinaLlama 2.7B Chat** với 4-bit quantization\n",
    "- 📊 **Hybrid RAG** (BM25 + BGE-M3)\n",
    "- 🗂️ **Vector Store** (Weaviate + fallback)\n",
    "- 📚 **Vietnamese Law Corpus** dataset\n",
    "- 🔊 **Vietnamese TTS** synthesis\n",
    "- 💬 **Interactive Demo** interface"
   ]
  },
  {
   "cell_type": "markdown",
   "metadata": {},
   "source": [
    "## 🔧 Bước 1: Cài đặt thư viện"
   ]
  },
  {
   "cell_type": "code",
   "execution_count": null,
   "metadata": {},
   "outputs": [],
   "source": [
    "# Cài đặt các thư viện cần thiết\n",
    "!pip install -q transformers torch datasets\n",
    "!pip install -q langchain langchain-community langchain-core\n",
    "!pip install -q weaviate-client sentence-transformers rank_bm25\n",
    "!pip install -q FlagEmbedding soundfile librosa pydub IPython\n",
    "!pip install -q accelerate bitsandbytes\n",
    "!pip install -q faiss-cpu"
   ]
  },
  {
   "cell_type": "markdown",
   "metadata": {},
   "source": [
    "## 📥 Bước 2: Tải Vietnamese Legal RAG System"
   ]
  },
  {
   "cell_type": "code",
   "execution_count": null,
   "metadata": {},
   "outputs": [],
   "source": [
    "# Download the main system file (nếu cần)\n",
    "# Hoặc copy-paste code từ vietnamese_legal_rag_system.py\n",
    "\n",
    "import urllib.request\n",
    "import os\n",
    "\n",
    "# Tải file system (thay đổi URL theo repo thực tế)\n",
    "url = \"https://raw.githubusercontent.com/tien2204/INTER_REPORT/main/vietnamese_legal_rag/vietnamese_legal_rag_system.py\"\n",
    "filename = \"vietnamese_legal_rag_system.py\"\n",
    "\n",
    "try:\n",
    "    urllib.request.urlretrieve(url, filename)\n",
    "    print(f\"✅ Đã tải {filename}\")\n",
    "except:\n",
    "    print(\"⚠️ Không thể tải file, vui lòng copy-paste code manually\")"
   ]
  },
  {
   "cell_type": "markdown",
   "metadata": {},
   "source": [
    "## 🚀 Bước 3: Khởi tạo hệ thống"
   ]
  },
  {
   "cell_type": "code",
   "execution_count": null,
   "metadata": {},
   "outputs": [],
   "source": [
    "# Import và khởi tạo hệ thống\n",
    "exec(open('vietnamese_legal_rag_system.py').read())\n",
    "\n",
    "# Hoặc nếu file không tải được, copy-paste toàn bộ code ở đây\n",
    "print(\"🚀 Hệ thống đã được import\")"
   ]
  },
  {
   "cell_type": "markdown",
   "metadata": {},
   "source": [
    "## 🧪 Bước 4: Test hệ thống"
   ]
  },
  {
   "cell_type": "code",
   "execution_count": null,
   "metadata": {},
   "outputs": [],
   "source": [
    "# Test với một câu hỏi đơn giản\n",
    "print(\"🧪 Testing Vietnamese Legal RAG System...\")\n",
    "test_system()"
   ]
  },
  {
   "cell_type": "markdown",
   "metadata": {},
   "source": [
    "## 🎯 Bước 5: Demo Interactive"
   ]
  },
  {
   "cell_type": "code",
   "execution_count": null,
   "metadata": {},
   "outputs": [],
   "source": [
    "# Chạy demo với câu hỏi cụ thể\n",
    "try:\n",
    "    rag_system = VietnameseLegalRAG()\n",
    "    \n",
    "    # Các câu hỏi demo\n",
    "    demo_questions = [\n",
    "        \"Tù chung thân là gì?\",\n",
    "        \"Luật dân sự quy định gì?\",\n",
    "        \"Quyền bào chữa là gì?\",\n",
    "        \"Hình phạt tù có mấy loại?\",\n",
    "        \"Tòa án có chức năng gì?\"\n",
    "    ]\n",
    "    \n",
    "    print(\"\\n🎯 DEMO VIETNAMESE LEGAL RAG SYSTEM\")\n",
    "    print(\"=\"*50)\n",
    "    \n",
    "    for i, question in enumerate(demo_questions, 1):\n",
    "        print(f\"\\n--- Demo {i}: {question} ---\")\n",
    "        try:\n",
    "            result = rag_system.query(question, return_audio=False)\n",
    "            print(\"-\" * 50)\n",
    "        except Exception as e:\n",
    "            print(f\"❌ Lỗi: {e}\")\n",
    "            \n",
    "except Exception as e:\n",
    "    print(f\"❌ Lỗi khởi tạo: {e}\")"
   ]
  },
  {
   "cell_type": "markdown",
   "metadata": {},
   "source": [
    "## 🎤 Bước 6: Interactive Query"
   ]
  },
  {
   "cell_type": "code",
   "execution_count": null,
   "metadata": {},
   "outputs": [],
   "source": [
    "# Interactive query trong Jupyter\n",
    "def jupyter_query(question):\n",
    "    \"\"\"Query function for Jupyter notebook\"\"\"\n",
    "    try:\n",
    "        result = rag_system.query(question, return_audio=False)\n",
    "        \n",
    "        print(f\"❓ Câu hỏi: {question}\")\n",
    "        print(f\"📝 Trả lời: {result['answer']}\")\n",
    "        print(f\"📊 Số tài liệu tham khảo: {result['relevant_docs']}\")\n",
    "        \n",
    "        # Hiển thị context nếu có\n",
    "        if result['context']:\n",
    "            print(\"\\n📚 Ngữ cảnh tham khảo:\")\n",
    "            print(result['context'][:500] + \"...\" if len(result['context']) > 500 else result['context'])\n",
    "        \n",
    "        return result\n",
    "    except Exception as e:\n",
    "        print(f\"❌ Lỗi: {e}\")\n",
    "        return None\n",
    "\n",
    "# Ví dụ sử dụng\n",
    "jupyter_query(\"Luật hình sự Việt Nam quy định những gì?\")"
   ]
  },
  {
   "cell_type": "markdown",
   "metadata": {},
   "source": [
    "## 🔊 Bước 7: Text-to-Speech Demo"
   ]
  },
  {
   "cell_type": "code",
   "execution_count": null,
   "metadata": {},
   "outputs": [],
   "source": [
    "# Test TTS functionality\n",
    "def test_tts(text):\n",
    "    \"\"\"Test TTS với text sample\"\"\"\n",
    "    try:\n",
    "        tts = VietnameseTTS()\n",
    "        audio_file = tts.synthesize(text)\n",
    "        \n",
    "        if audio_file:\n",
    "            from IPython.display import Audio, display\n",
    "            display(Audio(audio_file))\n",
    "            print(f\"🎵 Đã tạo và phát audio: {audio_file}\")\n",
    "        else:\n",
    "            print(\"📝 TTS không khả dụng, hiển thị text\")\n",
    "            print(f\"Text: {text}\")\n",
    "    except Exception as e:\n",
    "        print(f\"❌ TTS Error: {e}\")\n",
    "\n",
    "# Test với câu sample\n",
    "test_tts(\"Xin chào! Đây là hệ thống tư vấn pháp luật Việt Nam.\")"
   ]
  },
  {
   "cell_type": "markdown",
   "metadata": {},
   "source": [
    "## 📊 Bước 8: System Metrics"
   ]
  },
  {
   "cell_type": "code",
   "execution_count": null,
   "metadata": {},
   "outputs": [],
   "source": [
    "# Kiểm tra system metrics\n",
    "import psutil\n",
    "import torch\n",
    "\n",
    "def show_system_metrics():\n",
    "    \"\"\"Hiển thị metrics hệ thống\"\"\"\n",
    "    print(\"📊 SYSTEM METRICS\")\n",
    "    print(\"=\"*30)\n",
    "    \n",
    "    # Memory usage\n",
    "    memory = psutil.virtual_memory()\n",
    "    print(f\"💾 RAM Usage: {memory.percent}% ({memory.used//1024//1024//1024:.1f}GB/{memory.total//1024//1024//1024:.1f}GB)\")\n",
    "    \n",
    "    # GPU info\n",
    "    if torch.cuda.is_available():\n",
    "        print(f\"🔥 GPU: {torch.cuda.get_device_name(0)}\")\n",
    "        print(f\"🔥 GPU Memory: {torch.cuda.memory_allocated(0)//1024//1024:.0f}MB allocated\")\n",
    "    else:\n",
    "        print(\"💻 CPU Mode (No GPU available)\")\n",
    "    \n",
    "    # Python info\n",
    "    import sys\n",
    "    print(f\"🐍 Python: {sys.version.split()[0]}\")\n",
    "    print(f\"🔥 PyTorch: {torch.__version__}\")\n",
    "    \n",
    "show_system_metrics()"
   ]
  },
  {
   "cell_type": "markdown",
   "metadata": {},
   "source": [
    "## 🎯 Bước 9: Custom Query Interface"
   ]
  },
  {
   "cell_type": "code",
   "execution_count": null,
   "metadata": {},
   "outputs": [],
   "source": [
    "# Widget interface cho Jupyter (nếu có ipywidgets)\n",
    "try:\n",
    "    import ipywidgets as widgets\n",
    "    from IPython.display import display, clear_output\n",
    "    \n",
    "    # Tạo text input widget\n",
    "    text_input = widgets.Text(\n",
    "        placeholder='Nhập câu hỏi pháp luật...',\n",
    "        description='Câu hỏi:',\n",
    "        style={'description_width': 'initial'},\n",
    "        layout=widgets.Layout(width='70%')\n",
    "    )\n",
    "    \n",
    "    # Tạo button\n",
    "    submit_button = widgets.Button(\n",
    "        description='Gửi câu hỏi',\n",
    "        button_style='primary'\n",
    "    )\n",
    "    \n",
    "    # Output area\n",
    "    output = widgets.Output()\n",
    "    \n",
    "    def on_submit_clicked(b):\n",
    "        with output:\n",
    "            clear_output()\n",
    "            if text_input.value.strip():\n",
    "                print(f\"🔍 Đang xử lý: {text_input.value}\")\n",
    "                result = jupyter_query(text_input.value)\n",
    "            else:\n",
    "                print(\"⚠️ Vui lòng nhập câu hỏi\")\n",
    "    \n",
    "    submit_button.on_click(on_submit_clicked)\n",
    "    \n",
    "    # Display interface\n",
    "    print(\"🎯 INTERACTIVE LEGAL Q&A INTERFACE\")\n",
    "    display(widgets.VBox([text_input, submit_button, output]))\n",
    "    \n",
    "except ImportError:\n",
    "    print(\"⚠️ ipywidgets không khả dụng, sử dụng function jupyter_query() thay thế\")\n",
    "    print(\"Ví dụ: jupyter_query('Câu hỏi của bạn')\")"
   ]
  },
  {
   "cell_type": "markdown",
   "metadata": {},
   "source": [
    "## 📚 Thông tin thêm\n",
    "\n",
    "### Các tính năng chính:\n",
    "- ✅ **Model**: VinaLlama-2.7B-Chat với 4-bit quantization\n",
    "- ✅ **Embeddings**: BGE-M3 multilingual embeddings\n",
    "- ✅ **Retrieval**: Hybrid BM25 + Vector search\n",
    "- ✅ **Dataset**: Vietnamese Law Corpus\n",
    "- ✅ **TTS**: Vietnamese text-to-speech\n",
    "- ✅ **Interface**: Interactive Jupyter widgets\n",
    "\n",
    "### Sử dụng:\n",
    "1. Chạy tất cả cells theo thứ tự\n",
    "2. Sử dụng `jupyter_query(\"câu hỏi\")` để test\n",
    "3. Sử dụng widget interface ở cell cuối\n",
    "4. Check system metrics để monitor performance\n",
    "\n",
    "### Troubleshooting:\n",
    "- **Memory Error**: Restart kernel và run lại\n",
    "- **Model Loading**: Kiểm tra GPU/CPU settings\n",
    "- **TTS Issues**: Fallback to text display tự động\n",
    "\n",
    "---\n",
    "**Made with ❤️ for Vietnamese Legal AI Community**"
   ]
  }
 ],
 "metadata": {
  "kernelspec": {
   "display_name": "Python 3",
   "language": "python",
   "name": "python3"
  },
  "language_info": {
   "codemirror_mode": {
    "name": "ipython",
    "version": 3
   },
   "file_extension": ".py",
   "name": "python",
   "nbconvert_exporter": "python",
   "pygments_lexer": "ipython3",
   "version": "3.8.5"
  }
 },
 "nbformat": 4,
 "nbformat_minor": 4
}